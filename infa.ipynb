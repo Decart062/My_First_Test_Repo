{
  "nbformat": 4,
  "nbformat_minor": 0,
  "metadata": {
    "colab": {
      "provenance": [],
      "authorship_tag": "ABX9TyOgGT0Wz0PeGJhxIa3/7hqS",
      "include_colab_link": true
    },
    "kernelspec": {
      "name": "python3",
      "display_name": "Python 3"
    },
    "language_info": {
      "name": "python"
    }
  },
  "cells": [
    {
      "cell_type": "markdown",
      "metadata": {
        "id": "view-in-github",
        "colab_type": "text"
      },
      "source": [
        "<a href=\"https://colab.research.google.com/github/Decart062/My_First_Test_Repo/blob/main/infa.ipynb\" target=\"_parent\"><img src=\"https://colab.research.google.com/assets/colab-badge.svg\" alt=\"Open In Colab\"/></a>"
      ]
    },
    {
      "cell_type": "markdown",
      "source": [
        "#Пример пользования Sharkdown\n",
        "\n",
        "##Список бригады:\n",
        "1. Дец Артур\n",
        "2. Харламова Ольга\n",
        "3. Детчик Дмитрий\n",
        "\n",
        "<img src=\"https://www.nstu.ru/pic/news/NSTU_MAIN_1626769905.png\" alt=\"PEF\" width=\"300\" height=\"auto\"/>\n",
        "\n",
        "ФИО                  | Группа\n",
        "---------------------|------------------\n",
        "Дец Артур| ЭН1-45\n",
        "Харламова Ольга| ЭН1-45\n",
        "Детчик Дмитрий| ЭН1-45\n",
        "\n",
        "[NSTU](https://www.nstu.ru/)"
      ],
      "metadata": {
        "id": "cOg0ZWtT3zR_"
      }
    }
  ]
}